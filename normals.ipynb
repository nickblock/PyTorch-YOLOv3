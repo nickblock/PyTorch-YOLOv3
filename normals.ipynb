{
 "metadata": {
  "language_info": {
   "codemirror_mode": {
    "name": "ipython",
    "version": 3
   },
   "file_extension": ".py",
   "mimetype": "text/x-python",
   "name": "python",
   "nbconvert_exporter": "python",
   "pygments_lexer": "ipython3",
   "version": "3.8.5-final"
  },
  "orig_nbformat": 2,
  "kernelspec": {
   "name": "python3",
   "display_name": "Python 3",
   "language": "python"
  }
 },
 "nbformat": 4,
 "nbformat_minor": 2,
 "cells": [
  {
   "cell_type": "code",
   "execution_count": 36,
   "metadata": {},
   "outputs": [
    {
     "output_type": "stream",
     "name": "stdout",
     "text": [
      "tensor(1.8314)\ntensor([0.5460, 0.9179, 0.0000])\n"
     ]
    }
   ],
   "source": [
    "\n",
    "import torch\n",
    "import torch.nn.functional as f\n",
    "from torchvision import transforms\n",
    "\n",
    "detections = torch.FloatTensor([[ 3.9659e+02,  1.3919e+02,  4.1544e+02,  1.6907e+02,  8.3953e-01,\n",
    "          1.0, 1.0, 0.0],\n",
    "        [ 3.2136e+02,  1.4473e+02,  3.9717e+02,  2.0314e+02,  8.6162e-01,\n",
    "         -3.0304e-02,  7.9476e-03,  5.7966e-01],\n",
    "        [ 2.7587e+02,  1.9705e+02,  3.1481e+02,  2.3607e+02,  9.9477e-01,\n",
    "         -1.4409e-01, -4.8580e-03,  6.3473e-01],\n",
    "        [ 2.2014e+02,  2.2356e+02,  3.1702e+02,  3.2339e+02,  9.4522e-01,\n",
    "         -1.4357e-01,  8.0379e-02,  5.9684e-01],\n",
    "        [ 1.7283e+02,  2.4349e+02,  2.5587e+02,  3.4259e+02,  9.6373e-01,\n",
    "         -1.1727e-01,  1.1292e-01,  6.5797e-01],\n",
    "        [ 7.6386e+01,  3.4361e+02,  1.2586e+02,  3.9443e+02,  9.9668e-01,\n",
    "         -1.5831e-01, -3.4064e-02,  5.8309e-01]])\n",
    "\n",
    "norm = torch.linalg.norm(detections[:, 5:], ord=2, dim=0)\n",
    "detections[:, 5:] /= norm \n",
    "\n",
    "print(norm[0])\n",
    "print(detections[0, 5:])\n"
   ]
  }
 ]
}
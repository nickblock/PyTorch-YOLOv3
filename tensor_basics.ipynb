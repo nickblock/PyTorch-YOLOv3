{
 "metadata": {
  "language_info": {
   "codemirror_mode": {
    "name": "ipython",
    "version": 3
   },
   "file_extension": ".py",
   "mimetype": "text/x-python",
   "name": "python",
   "nbconvert_exporter": "python",
   "pygments_lexer": "ipython3",
   "version": "3.8.3-final"
  },
  "orig_nbformat": 2,
  "kernelspec": {
   "name": "python3",
   "display_name": "Python 3.8.3 64-bit (conda)",
   "metadata": {
    "interpreter": {
     "hash": "ecf5722fdaf1897a315d257d89d94520bfcaa453217d5becf09b39e73618b0de"
    }
   }
  }
 },
 "nbformat": 4,
 "nbformat_minor": 2,
 "cells": [
  {
   "cell_type": "code",
   "execution_count": 32,
   "metadata": {},
   "outputs": [
    {
     "output_type": "stream",
     "name": "stdout",
     "text": [
      "tensor([0., 0.])\ntensor([58., 75.])\ntensor([0., 0.])\ntensor([58., 75.])\n"
     ]
    }
   ],
   "source": [
    "import torch\n",
    "\n",
    "FT = torch.FloatTensor\n",
    "\n",
    "urbanData = torch.FloatTensor([[0.0000, 0.0000, 0.0000, 1.0000, 0.5000, 0.5000, 0.4990, 0.4990],[2.0000, 1.0000, 1.0000, 1.0000, 0.5000, 0.5000, 0.4990, 0.4990]])\n",
    "\n",
    "cocoData = torch.FloatTensor([[ 0.0000, 58.0000,  0.4808,  0.4673,  0.3983,  0.5064],        [ 0.0000, 75.0000,  0.4988,  0.5616,  0.2600,  0.3051]])\n",
    "\n",
    "labelsAndBox = urbanData\n",
    "\n",
    "label_size = 3\n",
    "\n",
    "correct_boxes, correct_labels = labelsAndBox[:, :label_size+1].t()\n",
    "\n",
    "print(correct_boxes)\n",
    "print(correct_labels)\n",
    "\n",
    "boxes = labelsAndBox[:, 0]\n",
    "labels = labelsAndBox[:, 1:label_size+1].t()[0]\n",
    "\n",
    "print(boxes)\n",
    "print(labels)\n"
   ]
  }
 ]
}